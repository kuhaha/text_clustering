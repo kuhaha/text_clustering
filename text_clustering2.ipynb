{
 "cells": [
  {
   "cell_type": "code",
   "execution_count": 9,
   "id": "d34babef",
   "metadata": {},
   "outputs": [],
   "source": [
    "import pandas as pd\n",
    "import MeCab\n",
    "from sklearn.feature_extraction.text import TfidfVectorizer\n",
    "from sklearn.cluster import KMeans\n",
    "import matplotlib.pyplot as plt\n",
    "from matplotlib import rcParams"
   ]
  },
  {
   "cell_type": "code",
   "execution_count": 10,
   "id": "23ebb0cc",
   "metadata": {},
   "outputs": [],
   "source": [
    "def mecab_sep(text):\n",
    "\tm = MeCab.Tagger(\"-Ochasen\")\n",
    "\tnode = m.parseToNode(text)\n",
    "\twords_list = []\n",
    "\twhile node:\n",
    "\t\tif node.feature.split(\",\")[0] in [\"名詞\"]:\n",
    "\t\t\twords_list.append(node.surface)\n",
    "\t\tnode = node.next\n",
    "\treturn words_list\n",
    "\n",
    "### Bag-of-words / tf-idf\n",
    "def calc_vecs(docs):\n",
    "\tvectorizer = TfidfVectorizer(analyzer=mecab_sep)\n",
    "\tvecs = vectorizer.fit_transform(docs)\n",
    "\treturn vecs.toarray()"
   ]
  },
  {
   "cell_type": "code",
   "execution_count": 16,
   "id": "3107c798",
   "metadata": {},
   "outputs": [
    {
     "data": {
      "text/html": [
       "<div>\n",
       "<style scoped>\n",
       "    .dataframe tbody tr th:only-of-type {\n",
       "        vertical-align: middle;\n",
       "    }\n",
       "\n",
       "    .dataframe tbody tr th {\n",
       "        vertical-align: top;\n",
       "    }\n",
       "\n",
       "    .dataframe thead th {\n",
       "        text-align: right;\n",
       "    }\n",
       "</style>\n",
       "<table border=\"1\" class=\"dataframe\">\n",
       "  <thead>\n",
       "    <tr style=\"text-align: right;\">\n",
       "      <th></th>\n",
       "      <th>年度</th>\n",
       "      <th>学科／研究科</th>\n",
       "      <th>研究室</th>\n",
       "      <th>題目</th>\n",
       "    </tr>\n",
       "  </thead>\n",
       "  <tbody>\n",
       "    <tr>\n",
       "      <th>3</th>\n",
       "      <td>H17</td>\n",
       "      <td>情報科学科</td>\n",
       "      <td>成研</td>\n",
       "      <td>対面教育を支援するためのウェブ助言システム</td>\n",
       "    </tr>\n",
       "    <tr>\n",
       "      <th>6</th>\n",
       "      <td>H17</td>\n",
       "      <td>情報科学科</td>\n",
       "      <td>仲研</td>\n",
       "      <td>生化学反応シミュレータの比較評価</td>\n",
       "    </tr>\n",
       "    <tr>\n",
       "      <th>7</th>\n",
       "      <td>H17</td>\n",
       "      <td>情報科学科</td>\n",
       "      <td>澤田研</td>\n",
       "      <td>FPGAを搭載したロボット教材のためのIPとしてKUE-CHIP2の検討</td>\n",
       "    </tr>\n",
       "    <tr>\n",
       "      <th>10</th>\n",
       "      <td>H17</td>\n",
       "      <td>情報科学科</td>\n",
       "      <td>稲永研</td>\n",
       "      <td>空港における目的地への交通手段検索システムの開発</td>\n",
       "    </tr>\n",
       "    <tr>\n",
       "      <th>11</th>\n",
       "      <td>H17</td>\n",
       "      <td>情報科学科</td>\n",
       "      <td>合志研</td>\n",
       "      <td>人の反応・判断能力測定用ドライビングシミュレータ</td>\n",
       "    </tr>\n",
       "  </tbody>\n",
       "</table>\n",
       "</div>"
      ],
      "text/plain": [
       "     年度 学科／研究科  研究室                                    題目\n",
       "3   H17  情報科学科   成研                 対面教育を支援するためのウェブ助言システム\n",
       "6   H17  情報科学科   仲研                      生化学反応シミュレータの比較評価\n",
       "7   H17  情報科学科  澤田研  FPGAを搭載したロボット教材のためのIPとしてKUE-CHIP2の検討\n",
       "10  H17  情報科学科  稲永研              空港における目的地への交通手段検索システムの開発\n",
       "11  H17  情報科学科  合志研              人の反応・判断能力測定用ドライビングシミュレータ"
      ]
     },
     "execution_count": 16,
     "metadata": {},
     "output_type": "execute_result"
    }
   ],
   "source": [
    "df = pd.read_csv(\"Dataset.csv\",encoding='UTF-8')\n",
    "tatget_labs = [\n",
    "    '朝廣研','安部研','石田研','合志研','下川研',\n",
    "    '成研','田中研','仲研','米元研','アプドゥハン研',\n",
    "    '稲永研','于研','石田俊研','澤田研','安武研','前田研']\n",
    "\n",
    "target_docs_df = df[df[\"研究室\"].isin(tatget_labs )] \n",
    "target_docs_df.head()"
   ]
  },
  {
   "cell_type": "code",
   "execution_count": 17,
   "id": "4cfd1406",
   "metadata": {},
   "outputs": [
    {
     "data": {
      "text/plain": [
       "array([13, 13,  2, 13,  0, 13,  4, 13, 13,  9, 13, 12,  1, 13, 10, 14, 13,\n",
       "       13,  4, 10])"
      ]
     },
     "execution_count": 17,
     "metadata": {},
     "output_type": "execute_result"
    }
   ],
   "source": [
    "target_docs = target_docs_df[\"題目\"].tolist()\n",
    "all_docs_vecs = calc_vecs(target_docs_df[\"題目\"])\n",
    "\n",
    "vec = KMeans(n_clusters=16, init=\"k-means++\")\n",
    "vec.fit(all_docs_vecs)\n",
    "\n",
    "vec.labels_[:20]"
   ]
  },
  {
   "cell_type": "code",
   "execution_count": 18,
   "id": "4a1c57fd",
   "metadata": {},
   "outputs": [
    {
     "data": {
      "text/html": [
       "<div>\n",
       "<style scoped>\n",
       "    .dataframe tbody tr th:only-of-type {\n",
       "        vertical-align: middle;\n",
       "    }\n",
       "\n",
       "    .dataframe tbody tr th {\n",
       "        vertical-align: top;\n",
       "    }\n",
       "\n",
       "    .dataframe thead th {\n",
       "        text-align: right;\n",
       "    }\n",
       "</style>\n",
       "<table border=\"1\" class=\"dataframe\">\n",
       "  <thead>\n",
       "    <tr style=\"text-align: right;\">\n",
       "      <th></th>\n",
       "      <th>年度</th>\n",
       "      <th>学科／研究科</th>\n",
       "      <th>研究室</th>\n",
       "      <th>題目</th>\n",
       "      <th>クラス</th>\n",
       "    </tr>\n",
       "  </thead>\n",
       "  <tbody>\n",
       "    <tr>\n",
       "      <th>3</th>\n",
       "      <td>H17</td>\n",
       "      <td>情報科学科</td>\n",
       "      <td>成研</td>\n",
       "      <td>対面教育を支援するためのウェブ助言システム</td>\n",
       "      <td>13</td>\n",
       "    </tr>\n",
       "    <tr>\n",
       "      <th>6</th>\n",
       "      <td>H17</td>\n",
       "      <td>情報科学科</td>\n",
       "      <td>仲研</td>\n",
       "      <td>生化学反応シミュレータの比較評価</td>\n",
       "      <td>13</td>\n",
       "    </tr>\n",
       "    <tr>\n",
       "      <th>7</th>\n",
       "      <td>H17</td>\n",
       "      <td>情報科学科</td>\n",
       "      <td>澤田研</td>\n",
       "      <td>FPGAを搭載したロボット教材のためのIPとしてKUE-CHIP2の検討</td>\n",
       "      <td>2</td>\n",
       "    </tr>\n",
       "    <tr>\n",
       "      <th>10</th>\n",
       "      <td>H17</td>\n",
       "      <td>情報科学科</td>\n",
       "      <td>稲永研</td>\n",
       "      <td>空港における目的地への交通手段検索システムの開発</td>\n",
       "      <td>13</td>\n",
       "    </tr>\n",
       "    <tr>\n",
       "      <th>11</th>\n",
       "      <td>H17</td>\n",
       "      <td>情報科学科</td>\n",
       "      <td>合志研</td>\n",
       "      <td>人の反応・判断能力測定用ドライビングシミュレータ</td>\n",
       "      <td>0</td>\n",
       "    </tr>\n",
       "  </tbody>\n",
       "</table>\n",
       "</div>"
      ],
      "text/plain": [
       "     年度 学科／研究科  研究室                                    題目  クラス\n",
       "3   H17  情報科学科   成研                 対面教育を支援するためのウェブ助言システム   13\n",
       "6   H17  情報科学科   仲研                      生化学反応シミュレータの比較評価   13\n",
       "7   H17  情報科学科  澤田研  FPGAを搭載したロボット教材のためのIPとしてKUE-CHIP2の検討    2\n",
       "10  H17  情報科学科  稲永研              空港における目的地への交通手段検索システムの開発   13\n",
       "11  H17  情報科学科  合志研              人の反応・判断能力測定用ドライビングシミュレータ    0"
      ]
     },
     "execution_count": 18,
     "metadata": {},
     "output_type": "execute_result"
    }
   ],
   "source": [
    "# target_docs_df[\"クラス\"] = vec.labels_\n",
    "target_docs_df.insert(4,\"クラス\",vec.labels_) \n",
    "pd.crosstab(target_docs_df[\"研究室\"],target_docs_df[\"クラス\"])\n",
    "cross_survive= pd.crosstab(target_docs_df['クラス'], target_docs_df['研究室'],normalize='index')\n",
    "target_docs_df.head()"
   ]
  },
  {
   "cell_type": "code",
   "execution_count": 19,
   "id": "a42ed5c2",
   "metadata": {},
   "outputs": [
    {
     "data": {
      "text/plain": [
       "<matplotlib.legend.Legend at 0x1c665542df0>"
      ]
     },
     "execution_count": 19,
     "metadata": {},
     "output_type": "execute_result"
    },
    {
     "data": {
      "image/png": "[encoded data removed]",
      "text/plain": [
       "<Figure size 432x288 with 1 Axes>"
      ]
     },
     "metadata": {
      "needs_background": "light"
     },
     "output_type": "display_data"
    }
   ],
   "source": [
    "#文字化け\n",
    "plt.rcParams[\"font.family\"] = \"MS Gothic\"\n",
    "# plt.figure(figsize=[15,20])\n",
    "#カラー\n",
    "plt.rcParams[\"axes.prop_cycle\"] = plt.cycler(\"color\", \n",
    "        [\"red\", \"blue\", \"green\",\"orange\", \"purple\", \"brown\", \"pink\", \"gray\", \"olive\", \"cyan\", \n",
    "         \"black\", \"gold\", \"maroon\", \"lime\", \"fuchsia\", \"tan\"])\n",
    "\n",
    "cross_survive.plot.bar(stacked=True)\n",
    "plt.legend( loc='center left', bbox_to_anchor=(1., .5))"
   ]
  },
  {
   "cell_type": "code",
   "execution_count": 15,
   "id": "de4e4c2a",
   "metadata": {},
   "outputs": [
    {
     "data": {
      "text/html": [
       "<div>\n",
       "<style scoped>\n",
       "    .dataframe tbody tr th:only-of-type {\n",
       "        vertical-align: middle;\n",
       "    }\n",
       "\n",
       "    .dataframe tbody tr th {\n",
       "        vertical-align: top;\n",
       "    }\n",
       "\n",
       "    .dataframe thead th {\n",
       "        text-align: right;\n",
       "    }\n",
       "</style>\n",
       "<table border=\"1\" class=\"dataframe\">\n",
       "  <thead>\n",
       "    <tr style=\"text-align: right;\">\n",
       "      <th></th>\n",
       "      <th>年度</th>\n",
       "      <th>学科／研究科</th>\n",
       "      <th>研究室</th>\n",
       "      <th>題目</th>\n",
       "      <th>クラス</th>\n",
       "    </tr>\n",
       "  </thead>\n",
       "  <tbody>\n",
       "    <tr>\n",
       "      <th>40</th>\n",
       "      <td>H17</td>\n",
       "      <td>情報科学科</td>\n",
       "      <td>アプドゥハン研</td>\n",
       "      <td>セマンティックグリッドシミュレーションに関する研究</td>\n",
       "      <td>3</td>\n",
       "    </tr>\n",
       "    <tr>\n",
       "      <th>59</th>\n",
       "      <td>H17</td>\n",
       "      <td>情報科学科</td>\n",
       "      <td>アプドゥハン研</td>\n",
       "      <td>セマンティック・グリッドにおけるグリッド・ポータルに関する研究</td>\n",
       "      <td>3</td>\n",
       "    </tr>\n",
       "    <tr>\n",
       "      <th>62</th>\n",
       "      <td>H17</td>\n",
       "      <td>情報科学科</td>\n",
       "      <td>下川研</td>\n",
       "      <td>講義記録システムのアクセス解析</td>\n",
       "      <td>3</td>\n",
       "    </tr>\n",
       "    <tr>\n",
       "      <th>72</th>\n",
       "      <td>H17</td>\n",
       "      <td>情報科学科</td>\n",
       "      <td>下川研</td>\n",
       "      <td>ネットワーク接続情報を用いた研究時間記録システム</td>\n",
       "      <td>3</td>\n",
       "    </tr>\n",
       "    <tr>\n",
       "      <th>78</th>\n",
       "      <td>H17</td>\n",
       "      <td>情報科学科</td>\n",
       "      <td>稲永研</td>\n",
       "      <td>各種メディアを利用したアンケートによる意見集約方法の研究</td>\n",
       "      <td>3</td>\n",
       "    </tr>\n",
       "  </tbody>\n",
       "</table>\n",
       "</div>"
      ],
      "text/plain": [
       "     年度 学科／研究科      研究室                               題目  クラス\n",
       "40  H17  情報科学科  アプドゥハン研        セマンティックグリッドシミュレーションに関する研究    3\n",
       "59  H17  情報科学科  アプドゥハン研  セマンティック・グリッドにおけるグリッド・ポータルに関する研究    3\n",
       "62  H17  情報科学科      下川研                  講義記録システムのアクセス解析    3\n",
       "72  H17  情報科学科      下川研         ネットワーク接続情報を用いた研究時間記録システム    3\n",
       "78  H17  情報科学科      稲永研     各種メディアを利用したアンケートによる意見集約方法の研究    3"
      ]
     },
     "execution_count": 15,
     "metadata": {},
     "output_type": "execute_result"
    }
   ],
   "source": [
    "k=3\n",
    "target_docs_df[target_docs_df['クラス']==k].head()"
   ]
  },
  {
   "cell_type": "code",
   "execution_count": null,
   "id": "053d5d1b",
   "metadata": {},
   "outputs": [],
   "source": []
  }
 ],
 "metadata": {
  "kernelspec": {
   "display_name": "Python 3 (ipykernel)",
   "language": "python",
   "name": "python3"
  },
  "language_info": {
   "codemirror_mode": {
    "name": "ipython",
    "version": 3
   },
   "file_extension": ".py",
   "mimetype": "text/x-python",
   "name": "python",
   "nbconvert_exporter": "python",
   "pygments_lexer": "ipython3",
   "version": "3.9.6"
  }
 },
 "nbformat": 4,
 "nbformat_minor": 5
}
